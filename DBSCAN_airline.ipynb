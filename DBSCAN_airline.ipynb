{
  "nbformat": 4,
  "nbformat_minor": 0,
  "metadata": {
    "colab": {
      "name": "DBSCAN_airline.ipynb",
      "provenance": [],
      "collapsed_sections": [],
      "authorship_tag": "ABX9TyNkAE4Ks+pNiuvKIU0cwNIx",
      "include_colab_link": true
    },
    "kernelspec": {
      "name": "python3",
      "display_name": "Python 3"
    },
    "language_info": {
      "name": "python"
    }
  },
  "cells": [
    {
      "cell_type": "markdown",
      "metadata": {
        "id": "view-in-github",
        "colab_type": "text"
      },
      "source": [
        "<a href=\"https://colab.research.google.com/github/shrad1997/DBSCAN_clustering/blob/main/DBSCAN_airline.ipynb\" target=\"_parent\"><img src=\"https://colab.research.google.com/assets/colab-badge.svg\" alt=\"Open In Colab\"/></a>"
      ]
    },
    {
      "cell_type": "code",
      "metadata": {
        "id": "u12lNg8cTFBM"
      },
      "source": [
        "import pandas as pd\n",
        "import matplotlib.pylab as plt\n",
        "from sklearn.cluster import DBSCAN\n",
        "from sklearn.metrics import silhouette_score\n",
        "import numpy as np"
      ],
      "execution_count": 129,
      "outputs": []
    },
    {
      "cell_type": "code",
      "metadata": {
        "id": "mgnH9FnGTsf0"
      },
      "source": [
        "df=pd.read_excel(\"/content/EastWestAirlines.xlsx\",'data')"
      ],
      "execution_count": 130,
      "outputs": []
    },
    {
      "cell_type": "code",
      "metadata": {
        "colab": {
          "base_uri": "https://localhost:8080/",
          "height": 377
        },
        "id": "2EJtQt1HT3Hi",
        "outputId": "d7898b93-c042-49f7-a889-53600410eaba"
      },
      "source": [
        "df.head(10)"
      ],
      "execution_count": 131,
      "outputs": [
        {
          "output_type": "execute_result",
          "data": {
            "text/html": [
              "<div>\n",
              "<style scoped>\n",
              "    .dataframe tbody tr th:only-of-type {\n",
              "        vertical-align: middle;\n",
              "    }\n",
              "\n",
              "    .dataframe tbody tr th {\n",
              "        vertical-align: top;\n",
              "    }\n",
              "\n",
              "    .dataframe thead th {\n",
              "        text-align: right;\n",
              "    }\n",
              "</style>\n",
              "<table border=\"1\" class=\"dataframe\">\n",
              "  <thead>\n",
              "    <tr style=\"text-align: right;\">\n",
              "      <th></th>\n",
              "      <th>ID#</th>\n",
              "      <th>Balance</th>\n",
              "      <th>Qual_miles</th>\n",
              "      <th>cc1_miles</th>\n",
              "      <th>cc2_miles</th>\n",
              "      <th>cc3_miles</th>\n",
              "      <th>Bonus_miles</th>\n",
              "      <th>Bonus_trans</th>\n",
              "      <th>Flight_miles_12mo</th>\n",
              "      <th>Flight_trans_12</th>\n",
              "      <th>Days_since_enroll</th>\n",
              "      <th>Award?</th>\n",
              "    </tr>\n",
              "  </thead>\n",
              "  <tbody>\n",
              "    <tr>\n",
              "      <th>0</th>\n",
              "      <td>1</td>\n",
              "      <td>28143</td>\n",
              "      <td>0</td>\n",
              "      <td>1</td>\n",
              "      <td>1</td>\n",
              "      <td>1</td>\n",
              "      <td>174</td>\n",
              "      <td>1</td>\n",
              "      <td>0</td>\n",
              "      <td>0</td>\n",
              "      <td>7000</td>\n",
              "      <td>0</td>\n",
              "    </tr>\n",
              "    <tr>\n",
              "      <th>1</th>\n",
              "      <td>2</td>\n",
              "      <td>19244</td>\n",
              "      <td>0</td>\n",
              "      <td>1</td>\n",
              "      <td>1</td>\n",
              "      <td>1</td>\n",
              "      <td>215</td>\n",
              "      <td>2</td>\n",
              "      <td>0</td>\n",
              "      <td>0</td>\n",
              "      <td>6968</td>\n",
              "      <td>0</td>\n",
              "    </tr>\n",
              "    <tr>\n",
              "      <th>2</th>\n",
              "      <td>3</td>\n",
              "      <td>41354</td>\n",
              "      <td>0</td>\n",
              "      <td>1</td>\n",
              "      <td>1</td>\n",
              "      <td>1</td>\n",
              "      <td>4123</td>\n",
              "      <td>4</td>\n",
              "      <td>0</td>\n",
              "      <td>0</td>\n",
              "      <td>7034</td>\n",
              "      <td>0</td>\n",
              "    </tr>\n",
              "    <tr>\n",
              "      <th>3</th>\n",
              "      <td>4</td>\n",
              "      <td>14776</td>\n",
              "      <td>0</td>\n",
              "      <td>1</td>\n",
              "      <td>1</td>\n",
              "      <td>1</td>\n",
              "      <td>500</td>\n",
              "      <td>1</td>\n",
              "      <td>0</td>\n",
              "      <td>0</td>\n",
              "      <td>6952</td>\n",
              "      <td>0</td>\n",
              "    </tr>\n",
              "    <tr>\n",
              "      <th>4</th>\n",
              "      <td>5</td>\n",
              "      <td>97752</td>\n",
              "      <td>0</td>\n",
              "      <td>4</td>\n",
              "      <td>1</td>\n",
              "      <td>1</td>\n",
              "      <td>43300</td>\n",
              "      <td>26</td>\n",
              "      <td>2077</td>\n",
              "      <td>4</td>\n",
              "      <td>6935</td>\n",
              "      <td>1</td>\n",
              "    </tr>\n",
              "    <tr>\n",
              "      <th>5</th>\n",
              "      <td>6</td>\n",
              "      <td>16420</td>\n",
              "      <td>0</td>\n",
              "      <td>1</td>\n",
              "      <td>1</td>\n",
              "      <td>1</td>\n",
              "      <td>0</td>\n",
              "      <td>0</td>\n",
              "      <td>0</td>\n",
              "      <td>0</td>\n",
              "      <td>6942</td>\n",
              "      <td>0</td>\n",
              "    </tr>\n",
              "    <tr>\n",
              "      <th>6</th>\n",
              "      <td>7</td>\n",
              "      <td>84914</td>\n",
              "      <td>0</td>\n",
              "      <td>3</td>\n",
              "      <td>1</td>\n",
              "      <td>1</td>\n",
              "      <td>27482</td>\n",
              "      <td>25</td>\n",
              "      <td>0</td>\n",
              "      <td>0</td>\n",
              "      <td>6994</td>\n",
              "      <td>0</td>\n",
              "    </tr>\n",
              "    <tr>\n",
              "      <th>7</th>\n",
              "      <td>8</td>\n",
              "      <td>20856</td>\n",
              "      <td>0</td>\n",
              "      <td>1</td>\n",
              "      <td>1</td>\n",
              "      <td>1</td>\n",
              "      <td>5250</td>\n",
              "      <td>4</td>\n",
              "      <td>250</td>\n",
              "      <td>1</td>\n",
              "      <td>6938</td>\n",
              "      <td>1</td>\n",
              "    </tr>\n",
              "    <tr>\n",
              "      <th>8</th>\n",
              "      <td>9</td>\n",
              "      <td>443003</td>\n",
              "      <td>0</td>\n",
              "      <td>3</td>\n",
              "      <td>2</td>\n",
              "      <td>1</td>\n",
              "      <td>1753</td>\n",
              "      <td>43</td>\n",
              "      <td>3850</td>\n",
              "      <td>12</td>\n",
              "      <td>6948</td>\n",
              "      <td>1</td>\n",
              "    </tr>\n",
              "    <tr>\n",
              "      <th>9</th>\n",
              "      <td>10</td>\n",
              "      <td>104860</td>\n",
              "      <td>0</td>\n",
              "      <td>3</td>\n",
              "      <td>1</td>\n",
              "      <td>1</td>\n",
              "      <td>28426</td>\n",
              "      <td>28</td>\n",
              "      <td>1150</td>\n",
              "      <td>3</td>\n",
              "      <td>6931</td>\n",
              "      <td>1</td>\n",
              "    </tr>\n",
              "  </tbody>\n",
              "</table>\n",
              "</div>"
            ],
            "text/plain": [
              "   ID#  Balance  Qual_miles  ...  Flight_trans_12  Days_since_enroll  Award?\n",
              "0    1    28143           0  ...                0               7000       0\n",
              "1    2    19244           0  ...                0               6968       0\n",
              "2    3    41354           0  ...                0               7034       0\n",
              "3    4    14776           0  ...                0               6952       0\n",
              "4    5    97752           0  ...                4               6935       1\n",
              "5    6    16420           0  ...                0               6942       0\n",
              "6    7    84914           0  ...                0               6994       0\n",
              "7    8    20856           0  ...                1               6938       1\n",
              "8    9   443003           0  ...               12               6948       1\n",
              "9   10   104860           0  ...                3               6931       1\n",
              "\n",
              "[10 rows x 12 columns]"
            ]
          },
          "metadata": {},
          "execution_count": 131
        }
      ]
    },
    {
      "cell_type": "code",
      "metadata": {
        "colab": {
          "base_uri": "https://localhost:8080/"
        },
        "id": "4KnQvd4cT5mZ",
        "outputId": "337ea2e5-04a3-4885-b7e8-9562c78d67e3"
      },
      "source": [
        "df.info()"
      ],
      "execution_count": 132,
      "outputs": [
        {
          "output_type": "stream",
          "name": "stdout",
          "text": [
            "<class 'pandas.core.frame.DataFrame'>\n",
            "RangeIndex: 3999 entries, 0 to 3998\n",
            "Data columns (total 12 columns):\n",
            " #   Column             Non-Null Count  Dtype\n",
            "---  ------             --------------  -----\n",
            " 0   ID#                3999 non-null   int64\n",
            " 1   Balance            3999 non-null   int64\n",
            " 2   Qual_miles         3999 non-null   int64\n",
            " 3   cc1_miles          3999 non-null   int64\n",
            " 4   cc2_miles          3999 non-null   int64\n",
            " 5   cc3_miles          3999 non-null   int64\n",
            " 6   Bonus_miles        3999 non-null   int64\n",
            " 7   Bonus_trans        3999 non-null   int64\n",
            " 8   Flight_miles_12mo  3999 non-null   int64\n",
            " 9   Flight_trans_12    3999 non-null   int64\n",
            " 10  Days_since_enroll  3999 non-null   int64\n",
            " 11  Award?             3999 non-null   int64\n",
            "dtypes: int64(12)\n",
            "memory usage: 375.0 KB\n"
          ]
        }
      ]
    },
    {
      "cell_type": "code",
      "metadata": {
        "id": "XkLvEMSvT9PG"
      },
      "source": [
        "df1=df.drop(['ID#'],axis=1)"
      ],
      "execution_count": 133,
      "outputs": []
    },
    {
      "cell_type": "code",
      "metadata": {
        "colab": {
          "base_uri": "https://localhost:8080/",
          "height": 203
        },
        "id": "5n25KdKqUDKB",
        "outputId": "0fc434a6-a4f5-47e2-fd48-b0c1ce5f09d5"
      },
      "source": [
        "df1.head()"
      ],
      "execution_count": 134,
      "outputs": [
        {
          "output_type": "execute_result",
          "data": {
            "text/html": [
              "<div>\n",
              "<style scoped>\n",
              "    .dataframe tbody tr th:only-of-type {\n",
              "        vertical-align: middle;\n",
              "    }\n",
              "\n",
              "    .dataframe tbody tr th {\n",
              "        vertical-align: top;\n",
              "    }\n",
              "\n",
              "    .dataframe thead th {\n",
              "        text-align: right;\n",
              "    }\n",
              "</style>\n",
              "<table border=\"1\" class=\"dataframe\">\n",
              "  <thead>\n",
              "    <tr style=\"text-align: right;\">\n",
              "      <th></th>\n",
              "      <th>Balance</th>\n",
              "      <th>Qual_miles</th>\n",
              "      <th>cc1_miles</th>\n",
              "      <th>cc2_miles</th>\n",
              "      <th>cc3_miles</th>\n",
              "      <th>Bonus_miles</th>\n",
              "      <th>Bonus_trans</th>\n",
              "      <th>Flight_miles_12mo</th>\n",
              "      <th>Flight_trans_12</th>\n",
              "      <th>Days_since_enroll</th>\n",
              "      <th>Award?</th>\n",
              "    </tr>\n",
              "  </thead>\n",
              "  <tbody>\n",
              "    <tr>\n",
              "      <th>0</th>\n",
              "      <td>28143</td>\n",
              "      <td>0</td>\n",
              "      <td>1</td>\n",
              "      <td>1</td>\n",
              "      <td>1</td>\n",
              "      <td>174</td>\n",
              "      <td>1</td>\n",
              "      <td>0</td>\n",
              "      <td>0</td>\n",
              "      <td>7000</td>\n",
              "      <td>0</td>\n",
              "    </tr>\n",
              "    <tr>\n",
              "      <th>1</th>\n",
              "      <td>19244</td>\n",
              "      <td>0</td>\n",
              "      <td>1</td>\n",
              "      <td>1</td>\n",
              "      <td>1</td>\n",
              "      <td>215</td>\n",
              "      <td>2</td>\n",
              "      <td>0</td>\n",
              "      <td>0</td>\n",
              "      <td>6968</td>\n",
              "      <td>0</td>\n",
              "    </tr>\n",
              "    <tr>\n",
              "      <th>2</th>\n",
              "      <td>41354</td>\n",
              "      <td>0</td>\n",
              "      <td>1</td>\n",
              "      <td>1</td>\n",
              "      <td>1</td>\n",
              "      <td>4123</td>\n",
              "      <td>4</td>\n",
              "      <td>0</td>\n",
              "      <td>0</td>\n",
              "      <td>7034</td>\n",
              "      <td>0</td>\n",
              "    </tr>\n",
              "    <tr>\n",
              "      <th>3</th>\n",
              "      <td>14776</td>\n",
              "      <td>0</td>\n",
              "      <td>1</td>\n",
              "      <td>1</td>\n",
              "      <td>1</td>\n",
              "      <td>500</td>\n",
              "      <td>1</td>\n",
              "      <td>0</td>\n",
              "      <td>0</td>\n",
              "      <td>6952</td>\n",
              "      <td>0</td>\n",
              "    </tr>\n",
              "    <tr>\n",
              "      <th>4</th>\n",
              "      <td>97752</td>\n",
              "      <td>0</td>\n",
              "      <td>4</td>\n",
              "      <td>1</td>\n",
              "      <td>1</td>\n",
              "      <td>43300</td>\n",
              "      <td>26</td>\n",
              "      <td>2077</td>\n",
              "      <td>4</td>\n",
              "      <td>6935</td>\n",
              "      <td>1</td>\n",
              "    </tr>\n",
              "  </tbody>\n",
              "</table>\n",
              "</div>"
            ],
            "text/plain": [
              "   Balance  Qual_miles  cc1_miles  ...  Flight_trans_12  Days_since_enroll  Award?\n",
              "0    28143           0          1  ...                0               7000       0\n",
              "1    19244           0          1  ...                0               6968       0\n",
              "2    41354           0          1  ...                0               7034       0\n",
              "3    14776           0          1  ...                0               6952       0\n",
              "4    97752           0          4  ...                4               6935       1\n",
              "\n",
              "[5 rows x 11 columns]"
            ]
          },
          "metadata": {},
          "execution_count": 134
        }
      ]
    },
    {
      "cell_type": "code",
      "metadata": {
        "id": "t7upMqWgUFn_"
      },
      "source": [
        "#normalisation function\n",
        "def norm_func(i):\n",
        "  x= (i-i.min())/(i.max()-i.min())\n",
        "  return x"
      ],
      "execution_count": 135,
      "outputs": []
    },
    {
      "cell_type": "code",
      "metadata": {
        "id": "Me-CHRc1UKTA"
      },
      "source": [
        "#normalised data frame\n",
        "df_norm=norm_func(df1.iloc[:,0:])"
      ],
      "execution_count": 136,
      "outputs": []
    },
    {
      "cell_type": "code",
      "metadata": {
        "colab": {
          "base_uri": "https://localhost:8080/",
          "height": 203
        },
        "id": "iJBgHzXyUOl8",
        "outputId": "e2edbe2d-d138-4d1d-dd1c-19d9d50d421f"
      },
      "source": [
        "df_norm.head(5)"
      ],
      "execution_count": 137,
      "outputs": [
        {
          "output_type": "execute_result",
          "data": {
            "text/html": [
              "<div>\n",
              "<style scoped>\n",
              "    .dataframe tbody tr th:only-of-type {\n",
              "        vertical-align: middle;\n",
              "    }\n",
              "\n",
              "    .dataframe tbody tr th {\n",
              "        vertical-align: top;\n",
              "    }\n",
              "\n",
              "    .dataframe thead th {\n",
              "        text-align: right;\n",
              "    }\n",
              "</style>\n",
              "<table border=\"1\" class=\"dataframe\">\n",
              "  <thead>\n",
              "    <tr style=\"text-align: right;\">\n",
              "      <th></th>\n",
              "      <th>Balance</th>\n",
              "      <th>Qual_miles</th>\n",
              "      <th>cc1_miles</th>\n",
              "      <th>cc2_miles</th>\n",
              "      <th>cc3_miles</th>\n",
              "      <th>Bonus_miles</th>\n",
              "      <th>Bonus_trans</th>\n",
              "      <th>Flight_miles_12mo</th>\n",
              "      <th>Flight_trans_12</th>\n",
              "      <th>Days_since_enroll</th>\n",
              "      <th>Award?</th>\n",
              "    </tr>\n",
              "  </thead>\n",
              "  <tbody>\n",
              "    <tr>\n",
              "      <th>0</th>\n",
              "      <td>0.016508</td>\n",
              "      <td>0.0</td>\n",
              "      <td>0.00</td>\n",
              "      <td>0.0</td>\n",
              "      <td>0.0</td>\n",
              "      <td>0.000660</td>\n",
              "      <td>0.011628</td>\n",
              "      <td>0.000000</td>\n",
              "      <td>0.000000</td>\n",
              "      <td>0.843742</td>\n",
              "      <td>0.0</td>\n",
              "    </tr>\n",
              "    <tr>\n",
              "      <th>1</th>\n",
              "      <td>0.011288</td>\n",
              "      <td>0.0</td>\n",
              "      <td>0.00</td>\n",
              "      <td>0.0</td>\n",
              "      <td>0.0</td>\n",
              "      <td>0.000815</td>\n",
              "      <td>0.023256</td>\n",
              "      <td>0.000000</td>\n",
              "      <td>0.000000</td>\n",
              "      <td>0.839884</td>\n",
              "      <td>0.0</td>\n",
              "    </tr>\n",
              "    <tr>\n",
              "      <th>2</th>\n",
              "      <td>0.024257</td>\n",
              "      <td>0.0</td>\n",
              "      <td>0.00</td>\n",
              "      <td>0.0</td>\n",
              "      <td>0.0</td>\n",
              "      <td>0.015636</td>\n",
              "      <td>0.046512</td>\n",
              "      <td>0.000000</td>\n",
              "      <td>0.000000</td>\n",
              "      <td>0.847842</td>\n",
              "      <td>0.0</td>\n",
              "    </tr>\n",
              "    <tr>\n",
              "      <th>3</th>\n",
              "      <td>0.008667</td>\n",
              "      <td>0.0</td>\n",
              "      <td>0.00</td>\n",
              "      <td>0.0</td>\n",
              "      <td>0.0</td>\n",
              "      <td>0.001896</td>\n",
              "      <td>0.011628</td>\n",
              "      <td>0.000000</td>\n",
              "      <td>0.000000</td>\n",
              "      <td>0.837955</td>\n",
              "      <td>0.0</td>\n",
              "    </tr>\n",
              "    <tr>\n",
              "      <th>4</th>\n",
              "      <td>0.057338</td>\n",
              "      <td>0.0</td>\n",
              "      <td>0.75</td>\n",
              "      <td>0.0</td>\n",
              "      <td>0.0</td>\n",
              "      <td>0.164211</td>\n",
              "      <td>0.302326</td>\n",
              "      <td>0.067398</td>\n",
              "      <td>0.075472</td>\n",
              "      <td>0.835905</td>\n",
              "      <td>1.0</td>\n",
              "    </tr>\n",
              "  </tbody>\n",
              "</table>\n",
              "</div>"
            ],
            "text/plain": [
              "    Balance  Qual_miles  cc1_miles  ...  Flight_trans_12  Days_since_enroll  Award?\n",
              "0  0.016508         0.0       0.00  ...         0.000000           0.843742     0.0\n",
              "1  0.011288         0.0       0.00  ...         0.000000           0.839884     0.0\n",
              "2  0.024257         0.0       0.00  ...         0.000000           0.847842     0.0\n",
              "3  0.008667         0.0       0.00  ...         0.000000           0.837955     0.0\n",
              "4  0.057338         0.0       0.75  ...         0.075472           0.835905     1.0\n",
              "\n",
              "[5 rows x 11 columns]"
            ]
          },
          "metadata": {},
          "execution_count": 137
        }
      ]
    },
    {
      "cell_type": "code",
      "metadata": {
        "colab": {
          "base_uri": "https://localhost:8080/"
        },
        "id": "EclupdJwUQl2",
        "outputId": "a21524e7-cd46-4aa2-c551-309e20612bae"
      },
      "source": [
        "dbscan = DBSCAN(eps=0.5, min_samples=12)\n",
        "dbscan.fit(df_norm)   "
      ],
      "execution_count": 138,
      "outputs": [
        {
          "output_type": "execute_result",
          "data": {
            "text/plain": [
              "DBSCAN(min_samples=12)"
            ]
          },
          "metadata": {},
          "execution_count": 138
        }
      ]
    },
    {
      "cell_type": "code",
      "metadata": {
        "colab": {
          "base_uri": "https://localhost:8080/"
        },
        "id": "NJ5bL0QbMOvl",
        "outputId": "0273377f-dc9b-40ec-e2e9-209412aac6d2"
      },
      "source": [
        "#Noisy samples are given the label -1.\n",
        "dbscan.labels_ "
      ],
      "execution_count": 139,
      "outputs": [
        {
          "output_type": "execute_result",
          "data": {
            "text/plain": [
              "array([0, 0, 0, ..., 1, 0, 0])"
            ]
          },
          "metadata": {},
          "execution_count": 139
        }
      ]
    },
    {
      "cell_type": "code",
      "metadata": {
        "id": "TrScqWFZN0bL"
      },
      "source": [
        "cl=pd.DataFrame(dbscan.labels_,columns=['cluster']) "
      ],
      "execution_count": 140,
      "outputs": []
    },
    {
      "cell_type": "code",
      "metadata": {
        "id": "FDCgHMhnN9RY",
        "colab": {
          "base_uri": "https://localhost:8080/",
          "height": 437
        },
        "outputId": "d9232d25-3afe-4ee2-9a96-52129b3a1b27"
      },
      "source": [
        "df1 = pd.concat([df,cl],axis=1) \n",
        "df1"
      ],
      "execution_count": 141,
      "outputs": [
        {
          "output_type": "execute_result",
          "data": {
            "text/html": [
              "<div>\n",
              "<style scoped>\n",
              "    .dataframe tbody tr th:only-of-type {\n",
              "        vertical-align: middle;\n",
              "    }\n",
              "\n",
              "    .dataframe tbody tr th {\n",
              "        vertical-align: top;\n",
              "    }\n",
              "\n",
              "    .dataframe thead th {\n",
              "        text-align: right;\n",
              "    }\n",
              "</style>\n",
              "<table border=\"1\" class=\"dataframe\">\n",
              "  <thead>\n",
              "    <tr style=\"text-align: right;\">\n",
              "      <th></th>\n",
              "      <th>ID#</th>\n",
              "      <th>Balance</th>\n",
              "      <th>Qual_miles</th>\n",
              "      <th>cc1_miles</th>\n",
              "      <th>cc2_miles</th>\n",
              "      <th>cc3_miles</th>\n",
              "      <th>Bonus_miles</th>\n",
              "      <th>Bonus_trans</th>\n",
              "      <th>Flight_miles_12mo</th>\n",
              "      <th>Flight_trans_12</th>\n",
              "      <th>Days_since_enroll</th>\n",
              "      <th>Award?</th>\n",
              "      <th>cluster</th>\n",
              "    </tr>\n",
              "  </thead>\n",
              "  <tbody>\n",
              "    <tr>\n",
              "      <th>0</th>\n",
              "      <td>1</td>\n",
              "      <td>28143</td>\n",
              "      <td>0</td>\n",
              "      <td>1</td>\n",
              "      <td>1</td>\n",
              "      <td>1</td>\n",
              "      <td>174</td>\n",
              "      <td>1</td>\n",
              "      <td>0</td>\n",
              "      <td>0</td>\n",
              "      <td>7000</td>\n",
              "      <td>0</td>\n",
              "      <td>0</td>\n",
              "    </tr>\n",
              "    <tr>\n",
              "      <th>1</th>\n",
              "      <td>2</td>\n",
              "      <td>19244</td>\n",
              "      <td>0</td>\n",
              "      <td>1</td>\n",
              "      <td>1</td>\n",
              "      <td>1</td>\n",
              "      <td>215</td>\n",
              "      <td>2</td>\n",
              "      <td>0</td>\n",
              "      <td>0</td>\n",
              "      <td>6968</td>\n",
              "      <td>0</td>\n",
              "      <td>0</td>\n",
              "    </tr>\n",
              "    <tr>\n",
              "      <th>2</th>\n",
              "      <td>3</td>\n",
              "      <td>41354</td>\n",
              "      <td>0</td>\n",
              "      <td>1</td>\n",
              "      <td>1</td>\n",
              "      <td>1</td>\n",
              "      <td>4123</td>\n",
              "      <td>4</td>\n",
              "      <td>0</td>\n",
              "      <td>0</td>\n",
              "      <td>7034</td>\n",
              "      <td>0</td>\n",
              "      <td>0</td>\n",
              "    </tr>\n",
              "    <tr>\n",
              "      <th>3</th>\n",
              "      <td>4</td>\n",
              "      <td>14776</td>\n",
              "      <td>0</td>\n",
              "      <td>1</td>\n",
              "      <td>1</td>\n",
              "      <td>1</td>\n",
              "      <td>500</td>\n",
              "      <td>1</td>\n",
              "      <td>0</td>\n",
              "      <td>0</td>\n",
              "      <td>6952</td>\n",
              "      <td>0</td>\n",
              "      <td>0</td>\n",
              "    </tr>\n",
              "    <tr>\n",
              "      <th>4</th>\n",
              "      <td>5</td>\n",
              "      <td>97752</td>\n",
              "      <td>0</td>\n",
              "      <td>4</td>\n",
              "      <td>1</td>\n",
              "      <td>1</td>\n",
              "      <td>43300</td>\n",
              "      <td>26</td>\n",
              "      <td>2077</td>\n",
              "      <td>4</td>\n",
              "      <td>6935</td>\n",
              "      <td>1</td>\n",
              "      <td>1</td>\n",
              "    </tr>\n",
              "    <tr>\n",
              "      <th>...</th>\n",
              "      <td>...</td>\n",
              "      <td>...</td>\n",
              "      <td>...</td>\n",
              "      <td>...</td>\n",
              "      <td>...</td>\n",
              "      <td>...</td>\n",
              "      <td>...</td>\n",
              "      <td>...</td>\n",
              "      <td>...</td>\n",
              "      <td>...</td>\n",
              "      <td>...</td>\n",
              "      <td>...</td>\n",
              "      <td>...</td>\n",
              "    </tr>\n",
              "    <tr>\n",
              "      <th>3994</th>\n",
              "      <td>4017</td>\n",
              "      <td>18476</td>\n",
              "      <td>0</td>\n",
              "      <td>1</td>\n",
              "      <td>1</td>\n",
              "      <td>1</td>\n",
              "      <td>8525</td>\n",
              "      <td>4</td>\n",
              "      <td>200</td>\n",
              "      <td>1</td>\n",
              "      <td>1403</td>\n",
              "      <td>1</td>\n",
              "      <td>1</td>\n",
              "    </tr>\n",
              "    <tr>\n",
              "      <th>3995</th>\n",
              "      <td>4018</td>\n",
              "      <td>64385</td>\n",
              "      <td>0</td>\n",
              "      <td>1</td>\n",
              "      <td>1</td>\n",
              "      <td>1</td>\n",
              "      <td>981</td>\n",
              "      <td>5</td>\n",
              "      <td>0</td>\n",
              "      <td>0</td>\n",
              "      <td>1395</td>\n",
              "      <td>1</td>\n",
              "      <td>1</td>\n",
              "    </tr>\n",
              "    <tr>\n",
              "      <th>3996</th>\n",
              "      <td>4019</td>\n",
              "      <td>73597</td>\n",
              "      <td>0</td>\n",
              "      <td>3</td>\n",
              "      <td>1</td>\n",
              "      <td>1</td>\n",
              "      <td>25447</td>\n",
              "      <td>8</td>\n",
              "      <td>0</td>\n",
              "      <td>0</td>\n",
              "      <td>1402</td>\n",
              "      <td>1</td>\n",
              "      <td>1</td>\n",
              "    </tr>\n",
              "    <tr>\n",
              "      <th>3997</th>\n",
              "      <td>4020</td>\n",
              "      <td>54899</td>\n",
              "      <td>0</td>\n",
              "      <td>1</td>\n",
              "      <td>1</td>\n",
              "      <td>1</td>\n",
              "      <td>500</td>\n",
              "      <td>1</td>\n",
              "      <td>500</td>\n",
              "      <td>1</td>\n",
              "      <td>1401</td>\n",
              "      <td>0</td>\n",
              "      <td>0</td>\n",
              "    </tr>\n",
              "    <tr>\n",
              "      <th>3998</th>\n",
              "      <td>4021</td>\n",
              "      <td>3016</td>\n",
              "      <td>0</td>\n",
              "      <td>1</td>\n",
              "      <td>1</td>\n",
              "      <td>1</td>\n",
              "      <td>0</td>\n",
              "      <td>0</td>\n",
              "      <td>0</td>\n",
              "      <td>0</td>\n",
              "      <td>1398</td>\n",
              "      <td>0</td>\n",
              "      <td>0</td>\n",
              "    </tr>\n",
              "  </tbody>\n",
              "</table>\n",
              "<p>3999 rows × 13 columns</p>\n",
              "</div>"
            ],
            "text/plain": [
              "       ID#  Balance  Qual_miles  ...  Days_since_enroll  Award?  cluster\n",
              "0        1    28143           0  ...               7000       0        0\n",
              "1        2    19244           0  ...               6968       0        0\n",
              "2        3    41354           0  ...               7034       0        0\n",
              "3        4    14776           0  ...               6952       0        0\n",
              "4        5    97752           0  ...               6935       1        1\n",
              "...    ...      ...         ...  ...                ...     ...      ...\n",
              "3994  4017    18476           0  ...               1403       1        1\n",
              "3995  4018    64385           0  ...               1395       1        1\n",
              "3996  4019    73597           0  ...               1402       1        1\n",
              "3997  4020    54899           0  ...               1401       0        0\n",
              "3998  4021     3016           0  ...               1398       0        0\n",
              "\n",
              "[3999 rows x 13 columns]"
            ]
          },
          "metadata": {},
          "execution_count": 141
        }
      ]
    },
    {
      "cell_type": "code",
      "metadata": {
        "colab": {
          "base_uri": "https://localhost:8080/"
        },
        "id": "XZ4vTP2hT7pc",
        "outputId": "86f2ca58-9e59-4f85-bd0f-d673efcb88fe"
      },
      "source": [
        "df1.cluster.unique()"
      ],
      "execution_count": 142,
      "outputs": [
        {
          "output_type": "execute_result",
          "data": {
            "text/plain": [
              "array([ 0,  1, -1,  2])"
            ]
          },
          "metadata": {},
          "execution_count": 142
        }
      ]
    },
    {
      "cell_type": "code",
      "metadata": {
        "colab": {
          "base_uri": "https://localhost:8080/",
          "height": 287
        },
        "id": "nJAOzhTjSOye",
        "outputId": "1a655a14-f86d-4e84-87bf-e51955cdacd5"
      },
      "source": [
        "df1.plot(x=\"Qual_miles\",y =\"Bonus_miles\",c=dbscan.labels_ ,kind=\"scatter\",s=50 ,cmap=plt.cm.copper_r) \n",
        "plt.title('Clusters using DBScan') "
      ],
      "execution_count": 143,
      "outputs": [
        {
          "output_type": "execute_result",
          "data": {
            "text/plain": [
              "Text(0.5, 1.0, 'Clusters using DBScan')"
            ]
          },
          "metadata": {},
          "execution_count": 143
        },
        {
          "output_type": "display_data",
          "data": {
            "image/png": "[encoded data removed]",
            "text/plain": [
              "<Figure size 432x288 with 2 Axes>"
            ]
          },
          "metadata": {
            "needs_background": "light"
          }
        }
      ]
    },
    {
      "cell_type": "code",
      "metadata": {
        "id": "kO4kH5IRSheb"
      },
      "source": [
        "X=df_norm.to_numpy()\n",
        "y=dbscan.labels_"
      ],
      "execution_count": 144,
      "outputs": []
    },
    {
      "cell_type": "code",
      "metadata": {
        "colab": {
          "base_uri": "https://localhost:8080/"
        },
        "id": "_debVLkcTWlN",
        "outputId": "b9fd9579-4b95-4a20-a7c9-18d8d507de00"
      },
      "source": [
        "silhouette_score(X,y)"
      ],
      "execution_count": 145,
      "outputs": [
        {
          "output_type": "execute_result",
          "data": {
            "text/plain": [
              "0.33403723077785397"
            ]
          },
          "metadata": {},
          "execution_count": 145
        }
      ]
    },
    {
      "cell_type": "code",
      "metadata": {
        "id": "tS-h0_PFTeuk"
      },
      "source": [
        ""
      ],
      "execution_count": 145,
      "outputs": []
    }
  ]
}